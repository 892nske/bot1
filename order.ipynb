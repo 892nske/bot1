{
 "cells": [
  {
   "cell_type": "code",
   "execution_count": 1,
   "id": "4725b592-367c-40f5-b0fa-a14c173b6000",
   "metadata": {},
   "outputs": [],
   "source": [
    "import ccxt\n",
    "import time\n",
    "import pandas as pd\n",
    "import json"
   ]
  },
  {
   "cell_type": "code",
   "execution_count": 2,
   "id": "2a2cd34e-353c-466a-8e53-9367ed051891",
   "metadata": {},
   "outputs": [],
   "source": [
    "with open('api.json') as f:\n",
    "    apf = json.load(f)"
   ]
  },
  {
   "cell_type": "code",
   "execution_count": 3,
   "id": "d8db24ae-ddda-4268-b7f4-d1510069390a",
   "metadata": {},
   "outputs": [],
   "source": [
    "bybit = ccxt.bybit({\"apiKey\":apf[\"api_key\"], \"secret\":apf[\"secret_key\"]})"
   ]
  },
  {
   "cell_type": "code",
   "execution_count": 9,
   "id": "566deafb-1c21-4b92-81e5-71032a125c7f",
   "metadata": {},
   "outputs": [],
   "source": [
    "#何秒ごとに価格を収集するか\n",
    "interval = 5\n",
    "\n",
    "#何BTC分取引するか\n",
    "quantity = 0.001"
   ]
  },
  {
   "cell_type": "code",
   "execution_count": 10,
   "id": "7a7af223-d456-4d4a-80ef-8e9c2a01e185",
   "metadata": {},
   "outputs": [],
   "source": [
    "#25個で計算した短期移動平均と75個で計算した長期移動平均のクロスを判定に使う\n",
    "short_sma_duration = 25\n",
    "long_sma_duration = 75"
   ]
  },
  {
   "cell_type": "code",
   "execution_count": 11,
   "id": "877d13b0-32af-4418-8668-f610859d60aa",
   "metadata": {},
   "outputs": [
    {
     "data": {
      "text/plain": [
       "36011.0"
      ]
     },
     "execution_count": 11,
     "metadata": {},
     "output_type": "execute_result"
    }
   ],
   "source": [
    "ticker_info = bybit.fetch_ticker(symbol = 'BTCUSDT')\n",
    "ticker_info['last']"
   ]
  },
  {
   "cell_type": "code",
   "execution_count": 12,
   "id": "ebb729fe-fa87-46a8-a5c2-01b812347380",
   "metadata": {},
   "outputs": [],
   "source": [
    "dif = 250\n",
    "dp=120\n",
    "dl=120"
   ]
  },
  {
   "cell_type": "code",
   "execution_count": 17,
   "id": "0780d7d8-77fc-40ce-ba93-1af8c6f1c3b5",
   "metadata": {},
   "outputs": [],
   "source": [
    "ticker_info = bybit.fetch_ticker(symbol = 'BTCUSDT')\n",
    "order = bybit.create_order('BTCUSDT','market','buy',quantity,0,{'take_profit': ticker_info['last']+dp,'stop_loss': ticker_info['last']-dl})"
   ]
  },
  {
   "cell_type": "code",
   "execution_count": 18,
   "id": "eb4e1ba6-c263-465b-8d5a-29b742eb6890",
   "metadata": {},
   "outputs": [],
   "source": [
    "def price_data_collecting(samples=100):\n",
    "    prices = []\n",
    "    for _ in range(samples):\n",
    "        ticker_info = bybit.fetch_ticker(symbol = 'BTCUSDT')\n",
    "        last_price = ticker_info['last']\n",
    "        prices.append(last_price)\n",
    "        time.sleep(interval)\n",
    "        return prices"
   ]
  },
  {
   "cell_type": "code",
   "execution_count": null,
   "id": "dd816e34-17d1-4676-8798-8b5299e94f71",
   "metadata": {},
   "outputs": [],
   "source": [
    "initial_data = price_data_collecting()\n",
    "df = pd.DataFrame()\n",
    "df[\"BTCUSDT\"] = initial_data\n",
    "\n",
    "while True:\n",
    "    #最新価格を取得\n",
    "    ticker_info = bybit.fetch_ticker(symbol = 'BTCUSDT')\n",
    "    last_price = ticker_info['last']\n",
    "    df=df.append({'BTCUSDT': last_price,}, ignore_index=True)\n",
    "\n",
    "    #移動平均を計算する\n",
    "    df[\"short_sma\"]=df[\"BTCUSDT\"].rolling(short_sma_duration).mean()\n",
    "    df[\"long_sma\"]=df[\"BTCUSDT\"].rolling(long_sma_duration).mean()\n",
    "\n",
    "    #ゴールデンクロス（短期移動平均が長期移動平均を下からつきぬける）\n",
    "    if df[\"short_sma\"].iloc[-1]>df[\"long_sma\"].iloc[-1] and df[\"short_sma\"].iloc[-2]<df[\"long_sma\"].iloc[-2]:\n",
    "        print(\"ロングポジションを取ります。\")\n",
    "        order = bybit.create_order('BTCUSDT','market','buy',quantity,0,{'take_profit': ticker_info['last']+dp,'stop_loss': ticker_info['last']-dl})\n",
    "\n",
    "    #デッドクロス(ゴールデンクロスの逆)\n",
    "    elif df[\"short_sma\"].iloc[-1]<df[\"long_sma\"].iloc[-1] and df[\"short_sma\"].iloc[-2]>df[\"long_sma\"].iloc[-2]:\n",
    "        print(\"ショートポジションを取ります。\")\n",
    "        order = bybit.create_order('BTCUSDT','market','sell',quantity,0,{'take_profit': ticker_info['last']-dp,'stop_loss': ticker_info['last']+dl})\n",
    "\n",
    "    #先頭行を削除してdfの長さを一定に保つ（長時間の運用時のメモリ対策）\n",
    "    df=df.drop(df.index[0])\n",
    "\n",
    "    time.sleep(interval)"
   ]
  },
  {
   "cell_type": "code",
   "execution_count": null,
   "id": "0edde312-74d0-4dec-83c6-33156372c0c7",
   "metadata": {},
   "outputs": [],
   "source": []
  }
 ],
 "metadata": {
  "kernelspec": {
   "display_name": "Python 3 (ipykernel)",
   "language": "python",
   "name": "python3"
  },
  "language_info": {
   "codemirror_mode": {
    "name": "ipython",
    "version": 3
   },
   "file_extension": ".py",
   "mimetype": "text/x-python",
   "name": "python",
   "nbconvert_exporter": "python",
   "pygments_lexer": "ipython3",
   "version": "3.8.12"
  }
 },
 "nbformat": 4,
 "nbformat_minor": 5
}
